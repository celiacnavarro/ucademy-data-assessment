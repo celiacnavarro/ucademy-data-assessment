{
 "cells": [
  {
   "cell_type": "code",
   "execution_count": 1,
   "id": "0b188a35",
   "metadata": {},
   "outputs": [],
   "source": [
    "# Importar librerías\n",
    "\n",
    "import pandas as pd\n",
    "import numpy as np\n",
    "import matplotlib.pyplot as plt\n",
    "import seaborn as sns\n",
    "import json\n"
   ]
  },
  {
   "cell_type": "code",
   "execution_count": 2,
   "id": "d72533ec",
   "metadata": {},
   "outputs": [
    {
     "data": {
      "text/plain": [
       "(    campaign_id                    name started_at   ended_at      cost\n",
       " 0  CAMPAIGN_001     Selectividad_TikTok 2024-06-15 2025-01-08  €1773,41\n",
       " 1  CAMPAIGN_002       Selectividad_Meta 2024-08-26        NaT  €2029,23\n",
       " 2  CAMPAIGN_003  Selectividad_googleads 2024-11-03        NaT  €2028,94\n",
       " 3  CAMPAIGN_004             opos_TikTok 2025-02-03 2025-01-06  €4598,68\n",
       " 4  CAMPAIGN_005               opos_meta 2025-01-18        NaT  €1007,72,\n",
       "                          inscription_id                               lead_id  \\\n",
       " 0  6314ea18-828d-4dc3-aaa4-a9011e25a40c  9e5068ff-c01f-4eab-bb38-214fb9d6b83d   \n",
       " 1  cac5cbc9-1525-4d36-bab4-20caa8fb4c50  6e103a09-c824-45c4-a29a-4be38d7bb2eb   \n",
       " 2  e052b19b-5fd0-407d-bdc8-9417d7d429f7  95d9f881-6af6-47a3-a656-cba3135f7f2b   \n",
       " 3  4fd6b73c-ad0b-4fe0-b8be-a75f879434c4  18036b65-9742-4973-9486-4102725bd84e   \n",
       " 4  c3dafb43-e33b-4fcf-9f7f-0f99afb3de8e  b778e4f5-3ffb-42b4-be7c-79788c7f44a6   \n",
       " \n",
       "                                courseId created_at     amount  \n",
       " 0  52762716-692f-41bc-9293-8f3fed01bc21 2025-04-26  1841,57 €  \n",
       " 1  28e5bdf4-7057-4c76-831e-b79282e919f0 2025-03-04  2460,79 €  \n",
       " 2  f6989ffc-6313-4b74-b293-0641e22f22bb 2024-12-09  2755,03 €  \n",
       " 3  4965816b-a00a-4330-ae47-01089b61b233 2024-08-03   953,44 €  \n",
       " 4  65fc847a-ccb2-4dcd-83ef-0a8a74eac254 2024-06-10  1165,67 €  ,\n",
       "                                 lead_id                      email first_name  \\\n",
       " 0  9e5068ff-c01f-4eab-bb38-214fb9d6b83d      ktytcomb0@sina.com.cn    Kristan   \n",
       " 1  6e103a09-c824-45c4-a29a-4be38d7bb2eb      ggeldert1@skyrock.com     Galina   \n",
       " 2  95d9f881-6af6-47a3-a656-cba3135f7f2b     lmorales2@multiply.com       Lynn   \n",
       " 3  18036b65-9742-4973-9486-4102725bd84e   cflanaghan3@yolasite.com   Courtnay   \n",
       " 4  b778e4f5-3ffb-42b4-be7c-79788c7f44a6  rpellingar4@google.com.hk      Rorie   \n",
       " \n",
       "    last_name created_at input_channel  \n",
       " 0            2025-05-28   WEB_ORGANIC  \n",
       " 1    Geldert 2025-05-24   WEB_ORGANIC  \n",
       " 2    Morales 2024-06-08  CAMPAIGN_003  \n",
       " 3  Flanaghan 2024-09-09  CAMPAIGN_008  \n",
       " 4  Pellingar 2025-04-01   WEB_ORGANIC  )"
      ]
     },
     "execution_count": 2,
     "metadata": {},
     "output_type": "execute_result"
    }
   ],
   "source": [
    "# Cargar los JSON\n",
    "\n",
    "# Rutas\n",
    "path_campaigns = \"../data/campaigns.json\"\n",
    "path_inscriptions = \"../data/inscriptions.json\"\n",
    "path_leads = \"../data/leads.json\"\n",
    "\n",
    "# Cargar en DataFrames\n",
    "campaigns = pd.read_json(path_campaigns)\n",
    "inscriptions = pd.read_json(path_inscriptions)\n",
    "leads = pd.read_json(path_leads)\n",
    "\n",
    "campaigns.head(), inscriptions.head(), leads.head()\n"
   ]
  },
  {
   "cell_type": "code",
   "execution_count": 5,
   "id": "891d5bf1",
   "metadata": {},
   "outputs": [
    {
     "name": "stdout",
     "output_type": "stream",
     "text": [
      "<class 'pandas.core.frame.DataFrame'>\n",
      "RangeIndex: 8 entries, 0 to 7\n",
      "Data columns (total 5 columns):\n",
      " #   Column       Non-Null Count  Dtype         \n",
      "---  ------       --------------  -----         \n",
      " 0   campaign_id  8 non-null      object        \n",
      " 1   name         8 non-null      object        \n",
      " 2   started_at   8 non-null      datetime64[ns]\n",
      " 3   ended_at     3 non-null      datetime64[ns]\n",
      " 4   cost         8 non-null      object        \n",
      "dtypes: datetime64[ns](2), object(3)\n",
      "memory usage: 448.0+ bytes\n",
      "<class 'pandas.core.frame.DataFrame'>\n",
      "RangeIndex: 100 entries, 0 to 99\n",
      "Data columns (total 5 columns):\n",
      " #   Column          Non-Null Count  Dtype         \n",
      "---  ------          --------------  -----         \n",
      " 0   inscription_id  100 non-null    object        \n",
      " 1   lead_id         100 non-null    object        \n",
      " 2   courseId        100 non-null    object        \n",
      " 3   created_at      100 non-null    datetime64[ns]\n",
      " 4   amount          100 non-null    object        \n",
      "dtypes: datetime64[ns](1), object(4)\n",
      "memory usage: 4.0+ KB\n",
      "<class 'pandas.core.frame.DataFrame'>\n",
      "RangeIndex: 1000 entries, 0 to 999\n",
      "Data columns (total 6 columns):\n",
      " #   Column         Non-Null Count  Dtype         \n",
      "---  ------         --------------  -----         \n",
      " 0   lead_id        1000 non-null   object        \n",
      " 1   email          1000 non-null   object        \n",
      " 2   first_name     1000 non-null   object        \n",
      " 3   last_name      1000 non-null   object        \n",
      " 4   created_at     1000 non-null   datetime64[ns]\n",
      " 5   input_channel  1000 non-null   object        \n",
      "dtypes: datetime64[ns](1), object(5)\n",
      "memory usage: 47.0+ KB\n"
     ]
    }
   ],
   "source": [
    "# Chequear la estructura\n",
    "\n",
    "campaigns.info()\n",
    "inscriptions.info()\n",
    "leads.info()"
   ]
  },
  {
   "cell_type": "code",
   "execution_count": 6,
   "id": "dfca908d",
   "metadata": {},
   "outputs": [],
   "source": [
    "# Limpiar columnas de coste en campaigns\n",
    "campaigns['cost'] = (\n",
    "    campaigns['cost']\n",
    "    .str.replace(\"€\", \"\")\n",
    "    .str.replace(\",\", \".\")\n",
    "    .astype(float)\n",
    ")\n",
    "\n",
    "# Limpiar amounts en inscriptions\n",
    "inscriptions['amount'] = (\n",
    "    inscriptions['amount']\n",
    "    .str.replace(\"€\", \"\")\n",
    "    .str.replace(\",\", \".\")\n",
    "    .astype(float)\n",
    ")"
   ]
  },
  {
   "cell_type": "code",
   "execution_count": 11,
   "id": "33abfa93",
   "metadata": {},
   "outputs": [
    {
     "data": {
      "text/plain": [
       "8"
      ]
     },
     "execution_count": 11,
     "metadata": {},
     "output_type": "execute_result"
    }
   ],
   "source": [
    "# ¿Cuántas campañas hay?\n",
    "\n",
    "campaigns['campaign_id'].nunique()\n"
   ]
  },
  {
   "cell_type": "code",
   "execution_count": 14,
   "id": "c3faca75",
   "metadata": {},
   "outputs": [
    {
     "name": "stdout",
     "output_type": "stream",
     "text": [
      "1000\n"
     ]
    },
    {
     "data": {
      "text/plain": [
       "input_channel\n",
       "WEB_ORGANIC     103\n",
       "CAMPAIGN_007    100\n",
       "CAMPAIGN_004    100\n",
       "CAMPAIGN_002     96\n",
       "CAMPAIGN_003     95\n",
       "CAMPAIGN_005     90\n",
       "                 86\n",
       "CAMPAIGN_001     85\n",
       "CAMPAIGN_008     83\n",
       "REF_PARTNER      83\n",
       "CAMPAIGN_006     79\n",
       "Name: count, dtype: int64"
      ]
     },
     "execution_count": 14,
     "metadata": {},
     "output_type": "execute_result"
    }
   ],
   "source": [
    "# Leads totales y por canal\n",
    "\n",
    "print(leads['lead_id'].nunique())\n",
    "\n",
    "leads['input_channel'].value_counts()"
   ]
  },
  {
   "cell_type": "code",
   "execution_count": 15,
   "id": "8640ca76",
   "metadata": {},
   "outputs": [
    {
     "data": {
      "text/plain": [
       "100"
      ]
     },
     "execution_count": 15,
     "metadata": {},
     "output_type": "execute_result"
    }
   ],
   "source": [
    "# ¿Cuántos leads se han convertido? (Aparecen en inscription)\n",
    "\n",
    "len(inscriptions['lead_id'].unique())"
   ]
  },
  {
   "cell_type": "code",
   "execution_count": 16,
   "id": "688b98de",
   "metadata": {},
   "outputs": [
    {
     "data": {
      "text/plain": [
       "Text(0.5, 1.0, 'Leads captados por mes')"
      ]
     },
     "execution_count": 16,
     "metadata": {},
     "output_type": "execute_result"
    },
    {
     "data": {
      "image/png": "[encoded data removed]",
      "text/plain": [
       "<Figure size 640x480 with 1 Axes>"
      ]
     },
     "metadata": {},
     "output_type": "display_data"
    }
   ],
   "source": [
    "# Evolución de leads en el tiempo\n",
    "\n",
    "leads.groupby(leads['created_at'].dt.to_period(\"M\")).size().plot(kind=\"bar\")\n",
    "plt.title(\"Leads captados por mes\")"
   ]
  },
  {
   "cell_type": "code",
   "execution_count": 17,
   "id": "67b79439",
   "metadata": {},
   "outputs": [
    {
     "data": {
      "text/plain": [
       "input_channel\n",
       "                 4.651163\n",
       "CAMPAIGN_001     3.529412\n",
       "CAMPAIGN_002    15.625000\n",
       "CAMPAIGN_003    12.631579\n",
       "CAMPAIGN_004    13.000000\n",
       "CAMPAIGN_005    12.222222\n",
       "CAMPAIGN_006    12.658228\n",
       "CAMPAIGN_007     9.000000\n",
       "CAMPAIGN_008     9.638554\n",
       "REF_PARTNER      9.638554\n",
       "WEB_ORGANIC      6.796117\n",
       "Name: _converted, dtype: float64"
      ]
     },
     "execution_count": 17,
     "metadata": {},
     "output_type": "execute_result"
    }
   ],
   "source": [
    "# Leads enriquecidos con si se inscribieron\n",
    "leads_with_inscriptions = leads.merge(\n",
    "    inscriptions[['lead_id', 'inscription_id']],\n",
    "    on=\"lead_id\",\n",
    "    how=\"left\",\n",
    "    indicator=True\n",
    ")\n",
    "\n",
    "leads_with_inscriptions['_converted'] = leads_with_inscriptions['_merge'] == 'both'\n",
    "\n",
    "# Conversion rate por input_channel\n",
    "conv_rate = leads_with_inscriptions.groupby('input_channel')['_converted'].mean() * 100\n",
    "conv_rate\n"
   ]
  },
  {
   "cell_type": "code",
   "execution_count": 18,
   "id": "1ea7ee26",
   "metadata": {},
   "outputs": [
    {
     "data": {
      "text/plain": [
       "Text(0.5, 0, 'Conversion rate')"
      ]
     },
     "execution_count": 18,
     "metadata": {},
     "output_type": "execute_result"
    },
    {
     "data": {
      "image/png": "[encoded data removed]",
      "text/plain": [
       "<Figure size 640x480 with 1 Axes>"
      ]
     },
     "metadata": {},
     "output_type": "display_data"
    }
   ],
   "source": [
    "# Visualización rápida\n",
    "\n",
    "conv_rate.sort_values().plot(kind=\"barh\")\n",
    "plt.title(\"Tasa de conversión por canal (%)\")\n",
    "plt.xlabel(\"Conversion rate\")"
   ]
  },
  {
   "cell_type": "code",
   "execution_count": null,
   "id": "89f67e35",
   "metadata": {},
   "outputs": [],
   "source": []
  }
 ],
 "metadata": {
  "kernelspec": {
   "display_name": "venv",
   "language": "python",
   "name": "python3"
  },
  "language_info": {
   "codemirror_mode": {
    "name": "ipython",
    "version": 3
   },
   "file_extension": ".py",
   "mimetype": "text/x-python",
   "name": "python",
   "nbconvert_exporter": "python",
   "pygments_lexer": "ipython3",
   "version": "3.9.4"
  }
 },
 "nbformat": 4,
 "nbformat_minor": 5
}
